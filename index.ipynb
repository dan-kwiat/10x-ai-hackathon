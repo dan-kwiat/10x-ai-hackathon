{
 "cells": [
  {
   "cell_type": "code",
   "execution_count": 48,
   "metadata": {},
   "outputs": [],
   "source": [
    "import os\n",
    "from anthropic import Anthropic\n",
    "import base64\n",
    "\n",
    "client = Anthropic(\n",
    "    api_key=os.environ.get(\"ANTHROPIC_API_KEY\"), # make sure you create your .env file first\n",
    ")\n",
    "\n",
    "# The data directory of png files to transcribe\n",
    "# Download national archive files here:\n",
    "# https://evidence-hou.se/events/big-llm-hack-24/data/correspondence.html\n",
    "dir = './data/Sample Images - PREM 19/1'\n",
    "\n",
    "# It seems that the files from national archieve are actually jpeg despite being named png? According to anthropic anyway\n",
    "file_extension_to_consider = '.png'\n",
    "image_media_type = \"image/jpeg\"\n",
    "\n",
    "transcripts_dir_name = 'transcripts'\n"
   ]
  },
  {
   "cell_type": "markdown",
   "metadata": {},
   "source": [
    "## Define the fields you want to extract from each letter\n"
   ]
  },
  {
   "cell_type": "code",
   "execution_count": 49,
   "metadata": {},
   "outputs": [],
   "source": [
    "fields = [\n",
    "  {\n",
    "    'title': \"Date\",\n",
    "    'tag': 'date',\n",
    "    'description': 'The date the letter was written in YYYY-MM-DD format, or N/A if unknown. If the year and month are known but not the day, use the first day of the month.'\n",
    "  },\n",
    "  {\n",
    "    'title': \"Sender\",\n",
    "    'tag': 'sender',\n",
    "    'description': 'The person or department which sent the letter, or N/A if unknown'\n",
    "  },\n",
    "  {\n",
    "    'title': \"Recipient\",\n",
    "    'tag': 'recipient',\n",
    "    'description': 'The person or department which received the letter, or N/A if unknown'\n",
    "  },\n",
    "  {\n",
    "    'title': \"Subject\",\n",
    "    'tag': 'subject',\n",
    "    'description': 'A one-line subject of the letter if present, otherwise infer this yourself from the context'\n",
    "  }\n",
    "]"
   ]
  },
  {
   "cell_type": "code",
   "execution_count": 50,
   "metadata": {},
   "outputs": [
    {
     "name": "stdout",
     "output_type": "stream",
     "text": [
      "Transcribe the text in this image in full, wrapped in <transcription> tags.\n",
      "\n",
      "Please also extract the following fields:\n",
      "\n",
      "- Date: The date the letter was written in YYYY-MM-DD format, or N/A if unknown. If the year and month are known but not the day, use the first day of the month.. Wrap this field in <date> tags.\n",
      "- Sender: The person or department which sent the letter, or N/A if unknown. Wrap this field in <sender> tags.\n",
      "- Recipient: The person or department which received the letter, or N/A if unknown. Wrap this field in <recipient> tags.\n",
      "- Subject: A one-line subject of the letter if present, otherwise infer this yourself from the context. Wrap this field in <subject> tags.\n"
     ]
    }
   ],
   "source": [
    "def prompt():\n",
    "    fields_string = \"\\n\".join(f\"- {field['title']}: {field['description']}. Wrap this field in <{field['tag']}> tags.\" for field in fields)\n",
    "    \n",
    "    return f\"\"\"\n",
    "Transcribe the text in this image in full, wrapped in <transcription> tags.\n",
    "\n",
    "Please also extract the following fields:\n",
    "\n",
    "{fields_string}\n",
    "\n",
    "\"\"\".strip()\n",
    "\n",
    "print(prompt())"
   ]
  },
  {
   "cell_type": "markdown",
   "metadata": {},
   "source": [
    "## Transcribe all the files in `dir`\n"
   ]
  },
  {
   "cell_type": "code",
   "execution_count": 51,
   "metadata": {},
   "outputs": [
    {
     "name": "stdout",
     "output_type": "stream",
     "text": [
      "1/32 - Processing PREM19_0_0001_10_Im0.png\n",
      "2/32 - Processing PREM19_0_0001_1_Im0.png\n",
      "3/32 - Processing PREM19_0_0001_2_Im0.png\n",
      "4/32 - Processing PREM19_0_0001_31_Im0.png\n",
      "5/32 - Processing PREM19_0_0001_32_Im0.png\n",
      "6/32 - Processing PREM19_0_0001_33_Im0.png\n",
      "7/32 - Processing PREM19_0_0001_34_Im0.png\n",
      "8/32 - Processing PREM19_0_0001_35_Im0.png\n",
      "9/32 - Processing PREM19_0_0001_3_Im0.png\n",
      "10/32 - Processing PREM19_0_0001_4_Im0.png\n",
      "11/32 - Processing PREM19_0_0001_5_Im0.png\n",
      "12/32 - Processing PREM19_0_0001_6_Im0.png\n",
      "13/32 - Processing PREM19_0_0001_7_Im0.png\n",
      "14/32 - Processing PREM19_0_0001_8_Im0.png\n",
      "15/32 - Processing PREM19_0_0001_9_Im0.png\n"
     ]
    }
   ],
   "source": [
    "os.makedirs(os.path.join(dir, transcripts_dir_name), exist_ok=True)\n",
    "\n",
    "i = 0\n",
    "files = sorted(os.listdir(dir))\n",
    "for filename in files:\n",
    "    if not filename.endswith(file_extension_to_consider):\n",
    "        continue\n",
    "    \n",
    "    i += 1\n",
    "    print(f\"{i}/{len(files)} - Processing {filename}\")\n",
    "\n",
    "    filepath = os.path.join(dir, filename)\n",
    "\n",
    "    with open(filepath, \"rb\") as f:\n",
    "        image_data = base64.b64encode(f.read()).decode(\"utf-8\")\n",
    "\n",
    "    message = client.messages.create(\n",
    "        model=\"claude-3-haiku-20240307\",\n",
    "        max_tokens=1024,\n",
    "        messages=[\n",
    "            {\n",
    "                \"role\": \"user\",\n",
    "                \"content\": [\n",
    "                    {\n",
    "                        \"type\": \"image\",\n",
    "                        \"source\": {\n",
    "                            \"type\": \"base64\",\n",
    "                            \"media_type\": image_media_type,\n",
    "                            \"data\": image_data,\n",
    "                        },\n",
    "                    },\n",
    "                    {\"type\": \"text\", \"text\": prompt()}\n",
    "                ],\n",
    "            }\n",
    "        ],\n",
    "    )\n",
    "    parsed_doc = message.content[0].text\n",
    "\n",
    "    with open(os.path.join(dir, transcripts_dir_name, filename.replace(file_extension_to_consider, '.txt')), 'w') as f:\n",
    "        f.write(parsed_doc)"
   ]
  }
 ],
 "metadata": {
  "kernelspec": {
   "display_name": "Python 3",
   "language": "python",
   "name": "python3"
  },
  "language_info": {
   "codemirror_mode": {
    "name": "ipython",
    "version": 3
   },
   "file_extension": ".py",
   "mimetype": "text/x-python",
   "name": "python",
   "nbconvert_exporter": "python",
   "pygments_lexer": "ipython3",
   "version": "3.11.5"
  }
 },
 "nbformat": 4,
 "nbformat_minor": 2
}
